{
 "cells": [
  {
   "cell_type": "code",
   "execution_count": 1,
   "metadata": {},
   "outputs": [],
   "source": [
    "import pandas as pd\n",
    "import numpy as np"
   ]
  },
  {
   "cell_type": "code",
   "execution_count": 2,
   "metadata": {},
   "outputs": [],
   "source": [
    "from sklearn.model_selection import train_test_split\n",
    "from sklearn import tree\n",
    "from sklearn.metrics import f1_score,precision_score,recall_score,accuracy_score\n",
    "from sklearn.impute import SimpleImputer"
   ]
  },
  {
   "cell_type": "code",
   "execution_count": 3,
   "metadata": {},
   "outputs": [],
   "source": [
    "from functions import *"
   ]
  },
  {
   "cell_type": "code",
   "execution_count": 4,
   "metadata": {},
   "outputs": [],
   "source": [
    "import pandas as pd\n",
    "from plotly.offline import download_plotlyjs,init_notebook_mode,iplot\n",
    "import plotly.graph_objs as go"
   ]
  },
  {
   "cell_type": "code",
   "execution_count": 5,
   "metadata": {},
   "outputs": [
    {
     "data": {
      "text/html": [
       "<script type=\"text/javascript\">window.PlotlyConfig = {MathJaxConfig: 'local'};</script><script type=\"text/javascript\">if (window.MathJax) {MathJax.Hub.Config({SVG: {font: \"STIX-Web\"}});}</script><script>requirejs.config({paths: { 'plotly': ['https://cdn.plot.ly/plotly-latest.min']},});if(!window._Plotly) {require(['plotly'],function(plotly) {window._Plotly=plotly;});}</script>"
      ],
      "text/vnd.plotly.v1+html": [
       "<script type=\"text/javascript\">window.PlotlyConfig = {MathJaxConfig: 'local'};</script><script type=\"text/javascript\">if (window.MathJax) {MathJax.Hub.Config({SVG: {font: \"STIX-Web\"}});}</script><script>requirejs.config({paths: { 'plotly': ['https://cdn.plot.ly/plotly-latest.min']},});if(!window._Plotly) {require(['plotly'],function(plotly) {window._Plotly=plotly;});}</script>"
      ]
     },
     "metadata": {},
     "output_type": "display_data"
    }
   ],
   "source": [
    "init_notebook_mode(connected=True)"
   ]
  },
  {
   "cell_type": "code",
   "execution_count": 8,
   "metadata": {},
   "outputs": [],
   "source": [
    "X = pd.read_csv('X_ccrf.csv')\n",
    "\n",
    "cols_2_impute =[]\n",
    "#print(X.shape[0])\n",
    "for column in X.columns:\n",
    "    if '?' in X[column].unique().tolist():\n",
    "        cols_2_impute.append(column)"
   ]
  },
  {
   "cell_type": "code",
   "execution_count": 10,
   "metadata": {},
   "outputs": [],
   "source": [
    "new_X = X.replace('?',np.nan)\n",
    "imp = SimpleImputer(missing_values=np.nan, strategy='mean')\n",
    "imp_X = pd.DataFrame(imp.fit_transform(new_X),columns=new_X.columns)"
   ]
  },
  {
   "cell_type": "code",
   "execution_count": 12,
   "metadata": {},
   "outputs": [],
   "source": [
    "X_columns = imp_X.columns.tolist()"
   ]
  },
  {
   "cell_type": "code",
   "execution_count": 13,
   "metadata": {},
   "outputs": [],
   "source": [
    "y = pd.read_csv('y_ccrf.csv')"
   ]
  },
  {
   "cell_type": "code",
   "execution_count": 14,
   "metadata": {},
   "outputs": [],
   "source": [
    "X_train, X_test, y_train, y_test = train_test_split(imp_X, y, test_size=0.30, random_state=101)"
   ]
  },
  {
   "cell_type": "code",
   "execution_count": 16,
   "metadata": {},
   "outputs": [],
   "source": [
    "y_train_labels =[]\n",
    "for idx in y_train.index:\n",
    "    row =[str(y_train.loc[idx][0]),str(y_train.loc[idx][1]),str(y_train.loc[idx][2]),str(y_train.loc[idx][3])]\n",
    "    y_train_labels.append(row)"
   ]
  },
  {
   "cell_type": "code",
   "execution_count": 17,
   "metadata": {},
   "outputs": [],
   "source": [
    "y_test_labels =[]\n",
    "for idx in y_test.index:\n",
    "    row =[str(float(y_test.loc[idx][0])),str(float(y_test.loc[idx][1])),\n",
    "          str(float(y_test.loc[idx][2])),str(float(y_test.loc[idx][3]))]\n",
    "    y_test_labels.append(row)"
   ]
  },
  {
   "cell_type": "code",
   "execution_count": 22,
   "metadata": {},
   "outputs": [
    {
     "data": {
      "text/plain": [
       "DecisionTreeClassifier(class_weight=None, criterion='gini', max_depth=4,\n",
       "            max_features=None, max_leaf_nodes=None,\n",
       "            min_impurity_decrease=0.0, min_impurity_split=None,\n",
       "            min_samples_leaf=1, min_samples_split=4,\n",
       "            min_weight_fraction_leaf=0.0, presort=False, random_state=None,\n",
       "            splitter='best')"
      ]
     },
     "execution_count": 22,
     "metadata": {},
     "output_type": "execute_result"
    }
   ],
   "source": [
    "clf_main = tree.DecisionTreeClassifier(max_depth=4,min_samples_split=4)\n",
    "clf_main.fit(X_train,y_train_labels)"
   ]
  },
  {
   "cell_type": "code",
   "execution_count": 23,
   "metadata": {},
   "outputs": [
    {
     "data": {
      "text/html": [
       "<div>\n",
       "<style scoped>\n",
       "    .dataframe tbody tr th:only-of-type {\n",
       "        vertical-align: middle;\n",
       "    }\n",
       "\n",
       "    .dataframe tbody tr th {\n",
       "        vertical-align: top;\n",
       "    }\n",
       "\n",
       "    .dataframe thead th {\n",
       "        text-align: right;\n",
       "    }\n",
       "</style>\n",
       "<table border=\"1\" class=\"dataframe\">\n",
       "  <thead>\n",
       "    <tr style=\"text-align: right;\">\n",
       "      <th></th>\n",
       "      <th>FEATURE</th>\n",
       "      <th>VALUE</th>\n",
       "    </tr>\n",
       "  </thead>\n",
       "  <tbody>\n",
       "    <tr>\n",
       "      <th>0</th>\n",
       "      <td>Hormonal Contraceptives (years)</td>\n",
       "      <td>0.121976</td>\n",
       "    </tr>\n",
       "    <tr>\n",
       "      <th>1</th>\n",
       "      <td>STDs:HIV</td>\n",
       "      <td>0.134059</td>\n",
       "    </tr>\n",
       "    <tr>\n",
       "      <th>2</th>\n",
       "      <td>Smokes (years)</td>\n",
       "      <td>0.104829</td>\n",
       "    </tr>\n",
       "    <tr>\n",
       "      <th>3</th>\n",
       "      <td>First sexual intercourse</td>\n",
       "      <td>0.117127</td>\n",
       "    </tr>\n",
       "    <tr>\n",
       "      <th>4</th>\n",
       "      <td>Smokes (packs/year)</td>\n",
       "      <td>0.125049</td>\n",
       "    </tr>\n",
       "  </tbody>\n",
       "</table>\n",
       "</div>"
      ],
      "text/plain": [
       "                           FEATURE     VALUE\n",
       "0  Hormonal Contraceptives (years)  0.121976\n",
       "1                         STDs:HIV  0.134059\n",
       "2                   Smokes (years)  0.104829\n",
       "3         First sexual intercourse  0.117127\n",
       "4              Smokes (packs/year)  0.125049"
      ]
     },
     "execution_count": 23,
     "metadata": {},
     "output_type": "execute_result"
    }
   ],
   "source": [
    "important_features =[]\n",
    "for x,y in zip(X_columns,clf_main.feature_importances_.tolist()):\n",
    "    important_features.append([x,y])\n",
    "\n",
    "df_important = pd.DataFrame(important_features,columns=['FEATURE','VALUE'])\n",
    "df_important.head()"
   ]
  },
  {
   "cell_type": "code",
   "execution_count": 24,
   "metadata": {},
   "outputs": [
    {
     "data": {
      "text/html": [
       "<div>\n",
       "<style scoped>\n",
       "    .dataframe tbody tr th:only-of-type {\n",
       "        vertical-align: middle;\n",
       "    }\n",
       "\n",
       "    .dataframe tbody tr th {\n",
       "        vertical-align: top;\n",
       "    }\n",
       "\n",
       "    .dataframe thead th {\n",
       "        text-align: right;\n",
       "    }\n",
       "</style>\n",
       "<table border=\"1\" class=\"dataframe\">\n",
       "  <thead>\n",
       "    <tr style=\"text-align: right;\">\n",
       "      <th></th>\n",
       "      <th>FEATURE</th>\n",
       "      <th>VALUE</th>\n",
       "    </tr>\n",
       "  </thead>\n",
       "  <tbody>\n",
       "    <tr>\n",
       "      <th>0</th>\n",
       "      <td>Hormonal Contraceptives (years)</td>\n",
       "      <td>0.121976</td>\n",
       "    </tr>\n",
       "    <tr>\n",
       "      <th>1</th>\n",
       "      <td>STDs:HIV</td>\n",
       "      <td>0.134059</td>\n",
       "    </tr>\n",
       "    <tr>\n",
       "      <th>2</th>\n",
       "      <td>Smokes (years)</td>\n",
       "      <td>0.104829</td>\n",
       "    </tr>\n",
       "    <tr>\n",
       "      <th>3</th>\n",
       "      <td>First sexual intercourse</td>\n",
       "      <td>0.117127</td>\n",
       "    </tr>\n",
       "    <tr>\n",
       "      <th>4</th>\n",
       "      <td>Smokes (packs/year)</td>\n",
       "      <td>0.125049</td>\n",
       "    </tr>\n",
       "    <tr>\n",
       "      <th>5</th>\n",
       "      <td>IUD (years)</td>\n",
       "      <td>0.156558</td>\n",
       "    </tr>\n",
       "    <tr>\n",
       "      <th>6</th>\n",
       "      <td>IUD</td>\n",
       "      <td>0.000000</td>\n",
       "    </tr>\n",
       "    <tr>\n",
       "      <th>7</th>\n",
       "      <td>Dx:HPV</td>\n",
       "      <td>0.058947</td>\n",
       "    </tr>\n",
       "    <tr>\n",
       "      <th>8</th>\n",
       "      <td>STDs:molluscum contagiosum</td>\n",
       "      <td>0.000000</td>\n",
       "    </tr>\n",
       "    <tr>\n",
       "      <th>9</th>\n",
       "      <td>STDs: Number of diagnosis</td>\n",
       "      <td>0.000000</td>\n",
       "    </tr>\n",
       "    <tr>\n",
       "      <th>10</th>\n",
       "      <td>STDs:AIDS</td>\n",
       "      <td>0.000000</td>\n",
       "    </tr>\n",
       "    <tr>\n",
       "      <th>11</th>\n",
       "      <td>Dx</td>\n",
       "      <td>0.000000</td>\n",
       "    </tr>\n",
       "    <tr>\n",
       "      <th>12</th>\n",
       "      <td>Age</td>\n",
       "      <td>0.000000</td>\n",
       "    </tr>\n",
       "    <tr>\n",
       "      <th>13</th>\n",
       "      <td>Hormonal Contraceptives</td>\n",
       "      <td>0.000000</td>\n",
       "    </tr>\n",
       "    <tr>\n",
       "      <th>14</th>\n",
       "      <td>Dx:Cancer</td>\n",
       "      <td>0.000000</td>\n",
       "    </tr>\n",
       "    <tr>\n",
       "      <th>15</th>\n",
       "      <td>STDs:condylomatosis</td>\n",
       "      <td>0.000000</td>\n",
       "    </tr>\n",
       "    <tr>\n",
       "      <th>16</th>\n",
       "      <td>STDs (number)</td>\n",
       "      <td>0.000000</td>\n",
       "    </tr>\n",
       "    <tr>\n",
       "      <th>17</th>\n",
       "      <td>STDs</td>\n",
       "      <td>0.000000</td>\n",
       "    </tr>\n",
       "    <tr>\n",
       "      <th>18</th>\n",
       "      <td>STDs:cervical condylomatosis</td>\n",
       "      <td>0.000000</td>\n",
       "    </tr>\n",
       "    <tr>\n",
       "      <th>19</th>\n",
       "      <td>STDs:vulvo-perineal condylomatosis</td>\n",
       "      <td>0.000000</td>\n",
       "    </tr>\n",
       "    <tr>\n",
       "      <th>20</th>\n",
       "      <td>STDs:pelvic inflammatory disease</td>\n",
       "      <td>0.000000</td>\n",
       "    </tr>\n",
       "    <tr>\n",
       "      <th>21</th>\n",
       "      <td>STDs:syphilis</td>\n",
       "      <td>0.000000</td>\n",
       "    </tr>\n",
       "    <tr>\n",
       "      <th>22</th>\n",
       "      <td>Num of pregnancies</td>\n",
       "      <td>0.092228</td>\n",
       "    </tr>\n",
       "    <tr>\n",
       "      <th>23</th>\n",
       "      <td>STDs:Hepatitis B</td>\n",
       "      <td>0.000000</td>\n",
       "    </tr>\n",
       "    <tr>\n",
       "      <th>24</th>\n",
       "      <td>Dx:CIN</td>\n",
       "      <td>0.000000</td>\n",
       "    </tr>\n",
       "    <tr>\n",
       "      <th>25</th>\n",
       "      <td>STDs:HPV</td>\n",
       "      <td>0.000000</td>\n",
       "    </tr>\n",
       "    <tr>\n",
       "      <th>26</th>\n",
       "      <td>Smokes</td>\n",
       "      <td>0.000000</td>\n",
       "    </tr>\n",
       "    <tr>\n",
       "      <th>27</th>\n",
       "      <td>Number of sexual partners</td>\n",
       "      <td>0.089227</td>\n",
       "    </tr>\n",
       "    <tr>\n",
       "      <th>28</th>\n",
       "      <td>STDs:genital herpes</td>\n",
       "      <td>0.000000</td>\n",
       "    </tr>\n",
       "    <tr>\n",
       "      <th>29</th>\n",
       "      <td>STDs:vaginal condylomatosis</td>\n",
       "      <td>0.000000</td>\n",
       "    </tr>\n",
       "  </tbody>\n",
       "</table>\n",
       "</div>"
      ],
      "text/plain": [
       "                               FEATURE     VALUE\n",
       "0      Hormonal Contraceptives (years)  0.121976\n",
       "1                             STDs:HIV  0.134059\n",
       "2                       Smokes (years)  0.104829\n",
       "3             First sexual intercourse  0.117127\n",
       "4                  Smokes (packs/year)  0.125049\n",
       "5                          IUD (years)  0.156558\n",
       "6                                  IUD  0.000000\n",
       "7                               Dx:HPV  0.058947\n",
       "8           STDs:molluscum contagiosum  0.000000\n",
       "9            STDs: Number of diagnosis  0.000000\n",
       "10                           STDs:AIDS  0.000000\n",
       "11                                  Dx  0.000000\n",
       "12                                 Age  0.000000\n",
       "13             Hormonal Contraceptives  0.000000\n",
       "14                           Dx:Cancer  0.000000\n",
       "15                 STDs:condylomatosis  0.000000\n",
       "16                       STDs (number)  0.000000\n",
       "17                                STDs  0.000000\n",
       "18        STDs:cervical condylomatosis  0.000000\n",
       "19  STDs:vulvo-perineal condylomatosis  0.000000\n",
       "20    STDs:pelvic inflammatory disease  0.000000\n",
       "21                       STDs:syphilis  0.000000\n",
       "22                  Num of pregnancies  0.092228\n",
       "23                    STDs:Hepatitis B  0.000000\n",
       "24                              Dx:CIN  0.000000\n",
       "25                            STDs:HPV  0.000000\n",
       "26                              Smokes  0.000000\n",
       "27           Number of sexual partners  0.089227\n",
       "28                 STDs:genital herpes  0.000000\n",
       "29         STDs:vaginal condylomatosis  0.000000"
      ]
     },
     "execution_count": 24,
     "metadata": {},
     "output_type": "execute_result"
    }
   ],
   "source": [
    "df_important"
   ]
  },
  {
   "cell_type": "code",
   "execution_count": 40,
   "metadata": {},
   "outputs": [],
   "source": [
    "xaxis = df_important['VALUE'].tolist()\n",
    "yaxis = df_important['FEATURE'].tolist()"
   ]
  },
  {
   "cell_type": "code",
   "execution_count": 41,
   "metadata": {},
   "outputs": [],
   "source": [
    "trace = go.Bar(x=xaxis,y=yaxis,orientation='h')\n",
    "fig_layout = go.Layout(title='Cervical Cancer Risk Factor Feature Importance ',\n",
    "                       xaxis=dict(title='Feature Importance Score'),\n",
    "                       yaxis=dict(title='Feature Name'),\n",
    "                       hovermode='closest')"
   ]
  },
  {
   "cell_type": "code",
   "execution_count": 42,
   "metadata": {},
   "outputs": [],
   "source": [
    "plot_obj = go.Figure(data=[trace],layout=fig_layout)"
   ]
  },
  {
   "cell_type": "code",
   "execution_count": 43,
   "metadata": {},
   "outputs": [
    {
     "data": {
      "application/vnd.plotly.v1+json": {
       "data": [
        {
         "orientation": "h",
         "type": "bar",
         "uid": "b430163e-9fba-4393-92b8-fef4e2fb5b5f",
         "x": [
          0.12197622898503534,
          0.1340589356048452,
          0.10482886910860395,
          0.11712691491917833,
          0.1250491306776907,
          0.15655757305317183,
          0,
          0.058947478614105805,
          0,
          0,
          0,
          0,
          0,
          0,
          0,
          0,
          0,
          0,
          0,
          0,
          0,
          0,
          0.09222783653656452,
          0,
          0,
          0,
          0,
          0.08922703250080444,
          0,
          0
         ],
         "y": [
          "Hormonal Contraceptives (years)",
          "STDs:HIV",
          "Smokes (years)",
          "First sexual intercourse",
          "Smokes (packs/year)",
          "IUD (years)",
          "IUD",
          "Dx:HPV",
          "STDs:molluscum contagiosum",
          "STDs: Number of diagnosis",
          "STDs:AIDS",
          "Dx",
          "Age",
          "Hormonal Contraceptives",
          "Dx:Cancer",
          "STDs:condylomatosis",
          "STDs (number)",
          "STDs",
          "STDs:cervical condylomatosis",
          "STDs:vulvo-perineal condylomatosis",
          "STDs:pelvic inflammatory disease",
          "STDs:syphilis",
          "Num of pregnancies",
          "STDs:Hepatitis B",
          "Dx:CIN",
          "STDs:HPV",
          "Smokes",
          "Number of sexual partners",
          "STDs:genital herpes",
          "STDs:vaginal condylomatosis"
         ]
        }
       ],
       "layout": {
        "hovermode": "closest",
        "title": "Cervical Cancer Risk Factor Feature Importance ",
        "xaxis": {
         "title": "Feature Importance Score"
        },
        "yaxis": {
         "title": "Feature Name"
        }
       }
      },
      "text/html": [
       "<div id=\"243a79ce-217c-4982-bb95-b6fb51074f90\" style=\"height: 525px; width: 100%;\" class=\"plotly-graph-div\"></div><script type=\"text/javascript\">require([\"plotly\"], function(Plotly) { window.PLOTLYENV=window.PLOTLYENV || {};window.PLOTLYENV.BASE_URL=\"https://plot.ly\";Plotly.newPlot(\"243a79ce-217c-4982-bb95-b6fb51074f90\", [{\"orientation\": \"h\", \"x\": [0.12197622898503534, 0.1340589356048452, 0.10482886910860395, 0.11712691491917833, 0.1250491306776907, 0.15655757305317183, 0.0, 0.058947478614105805, 0.0, 0.0, 0.0, 0.0, 0.0, 0.0, 0.0, 0.0, 0.0, 0.0, 0.0, 0.0, 0.0, 0.0, 0.09222783653656452, 0.0, 0.0, 0.0, 0.0, 0.08922703250080444, 0.0, 0.0], \"y\": [\"Hormonal Contraceptives (years)\", \"STDs:HIV\", \"Smokes (years)\", \"First sexual intercourse\", \"Smokes (packs/year)\", \"IUD (years)\", \"IUD\", \"Dx:HPV\", \"STDs:molluscum contagiosum\", \"STDs: Number of diagnosis\", \"STDs:AIDS\", \"Dx\", \"Age\", \"Hormonal Contraceptives\", \"Dx:Cancer\", \"STDs:condylomatosis\", \"STDs (number)\", \"STDs\", \"STDs:cervical condylomatosis\", \"STDs:vulvo-perineal condylomatosis\", \"STDs:pelvic inflammatory disease\", \"STDs:syphilis\", \"Num of pregnancies\", \"STDs:Hepatitis B\", \"Dx:CIN\", \"STDs:HPV\", \"Smokes\", \"Number of sexual partners\", \"STDs:genital herpes\", \"STDs:vaginal condylomatosis\"], \"type\": \"bar\", \"uid\": \"b430163e-9fba-4393-92b8-fef4e2fb5b5f\"}], {\"hovermode\": \"closest\", \"title\": \"Cervical Cancer Risk Factor Feature Importance \", \"xaxis\": {\"title\": \"Feature Importance Score\"}, \"yaxis\": {\"title\": \"Feature Name\"}}, {\"showLink\": true, \"linkText\": \"Export to plot.ly\"})});</script><script type=\"text/javascript\">window.addEventListener(\"resize\", function(){Plotly.Plots.resize(document.getElementById(\"243a79ce-217c-4982-bb95-b6fb51074f90\"));});</script>"
      ],
      "text/vnd.plotly.v1+html": [
       "<div id=\"243a79ce-217c-4982-bb95-b6fb51074f90\" style=\"height: 525px; width: 100%;\" class=\"plotly-graph-div\"></div><script type=\"text/javascript\">require([\"plotly\"], function(Plotly) { window.PLOTLYENV=window.PLOTLYENV || {};window.PLOTLYENV.BASE_URL=\"https://plot.ly\";Plotly.newPlot(\"243a79ce-217c-4982-bb95-b6fb51074f90\", [{\"orientation\": \"h\", \"x\": [0.12197622898503534, 0.1340589356048452, 0.10482886910860395, 0.11712691491917833, 0.1250491306776907, 0.15655757305317183, 0.0, 0.058947478614105805, 0.0, 0.0, 0.0, 0.0, 0.0, 0.0, 0.0, 0.0, 0.0, 0.0, 0.0, 0.0, 0.0, 0.0, 0.09222783653656452, 0.0, 0.0, 0.0, 0.0, 0.08922703250080444, 0.0, 0.0], \"y\": [\"Hormonal Contraceptives (years)\", \"STDs:HIV\", \"Smokes (years)\", \"First sexual intercourse\", \"Smokes (packs/year)\", \"IUD (years)\", \"IUD\", \"Dx:HPV\", \"STDs:molluscum contagiosum\", \"STDs: Number of diagnosis\", \"STDs:AIDS\", \"Dx\", \"Age\", \"Hormonal Contraceptives\", \"Dx:Cancer\", \"STDs:condylomatosis\", \"STDs (number)\", \"STDs\", \"STDs:cervical condylomatosis\", \"STDs:vulvo-perineal condylomatosis\", \"STDs:pelvic inflammatory disease\", \"STDs:syphilis\", \"Num of pregnancies\", \"STDs:Hepatitis B\", \"Dx:CIN\", \"STDs:HPV\", \"Smokes\", \"Number of sexual partners\", \"STDs:genital herpes\", \"STDs:vaginal condylomatosis\"], \"type\": \"bar\", \"uid\": \"b430163e-9fba-4393-92b8-fef4e2fb5b5f\"}], {\"hovermode\": \"closest\", \"title\": \"Cervical Cancer Risk Factor Feature Importance \", \"xaxis\": {\"title\": \"Feature Importance Score\"}, \"yaxis\": {\"title\": \"Feature Name\"}}, {\"showLink\": true, \"linkText\": \"Export to plot.ly\"})});</script><script type=\"text/javascript\">window.addEventListener(\"resize\", function(){Plotly.Plots.resize(document.getElementById(\"243a79ce-217c-4982-bb95-b6fb51074f90\"));});</script>"
      ]
     },
     "metadata": {},
     "output_type": "display_data"
    }
   ],
   "source": [
    "iplot(plot_obj)"
   ]
  },
  {
   "cell_type": "code",
   "execution_count": 46,
   "metadata": {},
   "outputs": [],
   "source": [
    "important_features2 =[]\n",
    "for x,y in zip(X_columns,clf_main.feature_importances_.tolist()):\n",
    "    if round(y,2) > 0.00:\n",
    "        important_features2.append([x,y])"
   ]
  },
  {
   "cell_type": "code",
   "execution_count": 47,
   "metadata": {},
   "outputs": [
    {
     "data": {
      "text/html": [
       "<div>\n",
       "<style scoped>\n",
       "    .dataframe tbody tr th:only-of-type {\n",
       "        vertical-align: middle;\n",
       "    }\n",
       "\n",
       "    .dataframe tbody tr th {\n",
       "        vertical-align: top;\n",
       "    }\n",
       "\n",
       "    .dataframe thead th {\n",
       "        text-align: right;\n",
       "    }\n",
       "</style>\n",
       "<table border=\"1\" class=\"dataframe\">\n",
       "  <thead>\n",
       "    <tr style=\"text-align: right;\">\n",
       "      <th></th>\n",
       "      <th>FEATURE</th>\n",
       "      <th>VALUE</th>\n",
       "    </tr>\n",
       "  </thead>\n",
       "  <tbody>\n",
       "    <tr>\n",
       "      <th>0</th>\n",
       "      <td>Hormonal Contraceptives (years)</td>\n",
       "      <td>0.121976</td>\n",
       "    </tr>\n",
       "    <tr>\n",
       "      <th>1</th>\n",
       "      <td>STDs:HIV</td>\n",
       "      <td>0.134059</td>\n",
       "    </tr>\n",
       "    <tr>\n",
       "      <th>2</th>\n",
       "      <td>Smokes (years)</td>\n",
       "      <td>0.104829</td>\n",
       "    </tr>\n",
       "    <tr>\n",
       "      <th>3</th>\n",
       "      <td>First sexual intercourse</td>\n",
       "      <td>0.117127</td>\n",
       "    </tr>\n",
       "    <tr>\n",
       "      <th>4</th>\n",
       "      <td>Smokes (packs/year)</td>\n",
       "      <td>0.125049</td>\n",
       "    </tr>\n",
       "    <tr>\n",
       "      <th>5</th>\n",
       "      <td>IUD (years)</td>\n",
       "      <td>0.156558</td>\n",
       "    </tr>\n",
       "    <tr>\n",
       "      <th>6</th>\n",
       "      <td>Dx:HPV</td>\n",
       "      <td>0.058947</td>\n",
       "    </tr>\n",
       "    <tr>\n",
       "      <th>7</th>\n",
       "      <td>Num of pregnancies</td>\n",
       "      <td>0.092228</td>\n",
       "    </tr>\n",
       "    <tr>\n",
       "      <th>8</th>\n",
       "      <td>Number of sexual partners</td>\n",
       "      <td>0.089227</td>\n",
       "    </tr>\n",
       "  </tbody>\n",
       "</table>\n",
       "</div>"
      ],
      "text/plain": [
       "                           FEATURE     VALUE\n",
       "0  Hormonal Contraceptives (years)  0.121976\n",
       "1                         STDs:HIV  0.134059\n",
       "2                   Smokes (years)  0.104829\n",
       "3         First sexual intercourse  0.117127\n",
       "4              Smokes (packs/year)  0.125049\n",
       "5                      IUD (years)  0.156558\n",
       "6                           Dx:HPV  0.058947\n",
       "7               Num of pregnancies  0.092228\n",
       "8        Number of sexual partners  0.089227"
      ]
     },
     "execution_count": 47,
     "metadata": {},
     "output_type": "execute_result"
    }
   ],
   "source": [
    "df_important2 = pd.DataFrame(important_features2,columns=['FEATURE','VALUE'])\n",
    "df_important2"
   ]
  },
  {
   "cell_type": "code",
   "execution_count": 49,
   "metadata": {},
   "outputs": [
    {
     "name": "stdout",
     "output_type": "stream",
     "text": [
      "Relevant Features are: \n",
      "------------------------\n",
      "Hormonal Contraceptives (years)\n",
      "STDs:HIV\n",
      "Smokes (years)\n",
      "First sexual intercourse\n",
      "Smokes (packs/year)\n",
      "IUD (years)\n",
      "Dx:HPV\n",
      "Num of pregnancies\n",
      "Number of sexual partners\n"
     ]
    }
   ],
   "source": [
    "print(\"Relevant Features are: \")\n",
    "print(\"------------------------\")\n",
    "for x in df_important2['FEATURE'].tolist():\n",
    "    print(x)"
   ]
  },
  {
   "cell_type": "code",
   "execution_count": null,
   "metadata": {},
   "outputs": [],
   "source": []
  }
 ],
 "metadata": {
  "kernelspec": {
   "display_name": "Python 3",
   "language": "python",
   "name": "python3"
  },
  "language_info": {
   "codemirror_mode": {
    "name": "ipython",
    "version": 3
   },
   "file_extension": ".py",
   "mimetype": "text/x-python",
   "name": "python",
   "nbconvert_exporter": "python",
   "pygments_lexer": "ipython3",
   "version": "3.6.7"
  }
 },
 "nbformat": 4,
 "nbformat_minor": 2
}
