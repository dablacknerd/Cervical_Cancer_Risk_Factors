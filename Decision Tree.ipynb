{
 "cells": [
  {
   "cell_type": "code",
   "execution_count": 1,
   "metadata": {},
   "outputs": [],
   "source": [
    "import pandas as pd\n",
    "import numpy as np"
   ]
  },
  {
   "cell_type": "code",
   "execution_count": 30,
   "metadata": {},
   "outputs": [],
   "source": [
    "import seaborn as sns\n",
    "%matplotlib inline"
   ]
  },
  {
   "cell_type": "code",
   "execution_count": 2,
   "metadata": {},
   "outputs": [],
   "source": [
    "from sklearn.model_selection import train_test_split\n",
    "from sklearn import tree\n",
    "from sklearn.metrics import f1_score,precision_score,recall_score,accuracy_score"
   ]
  },
  {
   "cell_type": "code",
   "execution_count": 3,
   "metadata": {},
   "outputs": [],
   "source": [
    "from sklearn.impute import SimpleImputer"
   ]
  },
  {
   "cell_type": "code",
   "execution_count": 4,
   "metadata": {},
   "outputs": [],
   "source": [
    "from functions import *"
   ]
  },
  {
   "cell_type": "code",
   "execution_count": 5,
   "metadata": {},
   "outputs": [
    {
     "name": "stdout",
     "output_type": "stream",
     "text": [
      "858\n",
      "24\n"
     ]
    },
    {
     "name": "stderr",
     "output_type": "stream",
     "text": [
      "/Users/tom/anaconda3/lib/python3.6/site-packages/ipykernel_launcher.py:7: FutureWarning: elementwise comparison failed; returning scalar instead, but in the future will perform elementwise comparison\n",
      "  import sys\n"
     ]
    }
   ],
   "source": [
    "X = pd.read_csv('X_ccrf.csv')\n",
    "\n",
    "cols_2_impute =[]\n",
    "print(X.shape[0])\n",
    "#print(\"-------------------------------------------------------\")\n",
    "for column in X.columns:\n",
    "    if '?' in X[column].unique():\n",
    "        #print('{} : {}'.format(column,df[column].value_counts()['?']))\n",
    "        cols_2_impute.append(column)\n",
    "print(len(cols_2_impute))"
   ]
  },
  {
   "cell_type": "code",
   "execution_count": 6,
   "metadata": {},
   "outputs": [],
   "source": [
    "new_X = X.replace('?',np.nan)\n",
    "imp = SimpleImputer(missing_values=np.nan, strategy='mean')\n",
    "imp_X = pd.DataFrame(imp.fit_transform(new_X),columns=new_X.columns)"
   ]
  },
  {
   "cell_type": "code",
   "execution_count": 7,
   "metadata": {},
   "outputs": [],
   "source": [
    "y = pd.read_csv('y_ccrf.csv')"
   ]
  },
  {
   "cell_type": "code",
   "execution_count": 8,
   "metadata": {},
   "outputs": [],
   "source": [
    "X_train, X_test, y_train, y_test = train_test_split(imp_X, y, test_size=0.30, random_state=101)"
   ]
  },
  {
   "cell_type": "code",
   "execution_count": 9,
   "metadata": {},
   "outputs": [
    {
     "data": {
      "text/plain": [
       "pandas.core.frame.DataFrame"
      ]
     },
     "execution_count": 9,
     "metadata": {},
     "output_type": "execute_result"
    }
   ],
   "source": [
    "type(y_train)"
   ]
  },
  {
   "cell_type": "code",
   "execution_count": 10,
   "metadata": {},
   "outputs": [
    {
     "data": {
      "text/html": [
       "<div>\n",
       "<style scoped>\n",
       "    .dataframe tbody tr th:only-of-type {\n",
       "        vertical-align: middle;\n",
       "    }\n",
       "\n",
       "    .dataframe tbody tr th {\n",
       "        vertical-align: top;\n",
       "    }\n",
       "\n",
       "    .dataframe thead th {\n",
       "        text-align: right;\n",
       "    }\n",
       "</style>\n",
       "<table border=\"1\" class=\"dataframe\">\n",
       "  <thead>\n",
       "    <tr style=\"text-align: right;\">\n",
       "      <th></th>\n",
       "      <th>Hormonal Contraceptives (years)</th>\n",
       "      <th>STDs:HIV</th>\n",
       "      <th>Smokes (years)</th>\n",
       "      <th>First sexual intercourse</th>\n",
       "      <th>Smokes (packs/year)</th>\n",
       "      <th>IUD (years)</th>\n",
       "      <th>IUD</th>\n",
       "      <th>Dx:HPV</th>\n",
       "      <th>STDs:molluscum contagiosum</th>\n",
       "      <th>STDs: Number of diagnosis</th>\n",
       "      <th>...</th>\n",
       "      <th>Dx:CIN</th>\n",
       "      <th>STDs:HPV</th>\n",
       "      <th>Smokes</th>\n",
       "      <th>Number of sexual partners</th>\n",
       "      <th>STDs:genital herpes</th>\n",
       "      <th>STDs:vaginal condylomatosis</th>\n",
       "      <th>Hinselmann</th>\n",
       "      <th>Schiller</th>\n",
       "      <th>Citology</th>\n",
       "      <th>Biopsy</th>\n",
       "    </tr>\n",
       "  </thead>\n",
       "  <tbody>\n",
       "    <tr>\n",
       "      <th>29</th>\n",
       "      <td>0.25</td>\n",
       "      <td>0.0</td>\n",
       "      <td>0.0</td>\n",
       "      <td>26.0</td>\n",
       "      <td>0.0</td>\n",
       "      <td>0.0</td>\n",
       "      <td>0.0</td>\n",
       "      <td>0.0</td>\n",
       "      <td>0.0</td>\n",
       "      <td>0.0</td>\n",
       "      <td>...</td>\n",
       "      <td>0.0</td>\n",
       "      <td>0.0</td>\n",
       "      <td>0.0</td>\n",
       "      <td>6.000000</td>\n",
       "      <td>0.0</td>\n",
       "      <td>0.0</td>\n",
       "      <td>0</td>\n",
       "      <td>0</td>\n",
       "      <td>0</td>\n",
       "      <td>0</td>\n",
       "    </tr>\n",
       "    <tr>\n",
       "      <th>517</th>\n",
       "      <td>5.00</td>\n",
       "      <td>0.0</td>\n",
       "      <td>0.0</td>\n",
       "      <td>19.0</td>\n",
       "      <td>0.0</td>\n",
       "      <td>0.0</td>\n",
       "      <td>0.0</td>\n",
       "      <td>0.0</td>\n",
       "      <td>0.0</td>\n",
       "      <td>0.0</td>\n",
       "      <td>...</td>\n",
       "      <td>0.0</td>\n",
       "      <td>0.0</td>\n",
       "      <td>0.0</td>\n",
       "      <td>1.000000</td>\n",
       "      <td>0.0</td>\n",
       "      <td>0.0</td>\n",
       "      <td>0</td>\n",
       "      <td>0</td>\n",
       "      <td>0</td>\n",
       "      <td>0</td>\n",
       "    </tr>\n",
       "    <tr>\n",
       "      <th>464</th>\n",
       "      <td>0.08</td>\n",
       "      <td>0.0</td>\n",
       "      <td>0.0</td>\n",
       "      <td>14.0</td>\n",
       "      <td>0.0</td>\n",
       "      <td>0.0</td>\n",
       "      <td>0.0</td>\n",
       "      <td>0.0</td>\n",
       "      <td>0.0</td>\n",
       "      <td>0.0</td>\n",
       "      <td>...</td>\n",
       "      <td>0.0</td>\n",
       "      <td>0.0</td>\n",
       "      <td>0.0</td>\n",
       "      <td>1.000000</td>\n",
       "      <td>0.0</td>\n",
       "      <td>0.0</td>\n",
       "      <td>0</td>\n",
       "      <td>1</td>\n",
       "      <td>0</td>\n",
       "      <td>0</td>\n",
       "    </tr>\n",
       "    <tr>\n",
       "      <th>752</th>\n",
       "      <td>0.50</td>\n",
       "      <td>0.0</td>\n",
       "      <td>0.0</td>\n",
       "      <td>15.0</td>\n",
       "      <td>0.0</td>\n",
       "      <td>0.0</td>\n",
       "      <td>0.0</td>\n",
       "      <td>0.0</td>\n",
       "      <td>0.0</td>\n",
       "      <td>0.0</td>\n",
       "      <td>...</td>\n",
       "      <td>0.0</td>\n",
       "      <td>0.0</td>\n",
       "      <td>0.0</td>\n",
       "      <td>2.527644</td>\n",
       "      <td>0.0</td>\n",
       "      <td>0.0</td>\n",
       "      <td>0</td>\n",
       "      <td>0</td>\n",
       "      <td>0</td>\n",
       "      <td>0</td>\n",
       "    </tr>\n",
       "    <tr>\n",
       "      <th>568</th>\n",
       "      <td>0.00</td>\n",
       "      <td>0.0</td>\n",
       "      <td>0.0</td>\n",
       "      <td>19.0</td>\n",
       "      <td>0.0</td>\n",
       "      <td>0.0</td>\n",
       "      <td>0.0</td>\n",
       "      <td>0.0</td>\n",
       "      <td>0.0</td>\n",
       "      <td>0.0</td>\n",
       "      <td>...</td>\n",
       "      <td>0.0</td>\n",
       "      <td>0.0</td>\n",
       "      <td>0.0</td>\n",
       "      <td>1.000000</td>\n",
       "      <td>0.0</td>\n",
       "      <td>0.0</td>\n",
       "      <td>0</td>\n",
       "      <td>0</td>\n",
       "      <td>0</td>\n",
       "      <td>0</td>\n",
       "    </tr>\n",
       "  </tbody>\n",
       "</table>\n",
       "<p>5 rows × 34 columns</p>\n",
       "</div>"
      ],
      "text/plain": [
       "     Hormonal Contraceptives (years)  STDs:HIV  Smokes (years)  \\\n",
       "29                              0.25       0.0             0.0   \n",
       "517                             5.00       0.0             0.0   \n",
       "464                             0.08       0.0             0.0   \n",
       "752                             0.50       0.0             0.0   \n",
       "568                             0.00       0.0             0.0   \n",
       "\n",
       "     First sexual intercourse  Smokes (packs/year)  IUD (years)  IUD  Dx:HPV  \\\n",
       "29                       26.0                  0.0          0.0  0.0     0.0   \n",
       "517                      19.0                  0.0          0.0  0.0     0.0   \n",
       "464                      14.0                  0.0          0.0  0.0     0.0   \n",
       "752                      15.0                  0.0          0.0  0.0     0.0   \n",
       "568                      19.0                  0.0          0.0  0.0     0.0   \n",
       "\n",
       "     STDs:molluscum contagiosum  STDs: Number of diagnosis   ...    Dx:CIN  \\\n",
       "29                          0.0                        0.0   ...       0.0   \n",
       "517                         0.0                        0.0   ...       0.0   \n",
       "464                         0.0                        0.0   ...       0.0   \n",
       "752                         0.0                        0.0   ...       0.0   \n",
       "568                         0.0                        0.0   ...       0.0   \n",
       "\n",
       "     STDs:HPV  Smokes  Number of sexual partners  STDs:genital herpes  \\\n",
       "29        0.0     0.0                   6.000000                  0.0   \n",
       "517       0.0     0.0                   1.000000                  0.0   \n",
       "464       0.0     0.0                   1.000000                  0.0   \n",
       "752       0.0     0.0                   2.527644                  0.0   \n",
       "568       0.0     0.0                   1.000000                  0.0   \n",
       "\n",
       "     STDs:vaginal condylomatosis  Hinselmann  Schiller  Citology  Biopsy  \n",
       "29                           0.0           0         0         0       0  \n",
       "517                          0.0           0         0         0       0  \n",
       "464                          0.0           0         1         0       0  \n",
       "752                          0.0           0         0         0       0  \n",
       "568                          0.0           0         0         0       0  \n",
       "\n",
       "[5 rows x 34 columns]"
      ]
     },
     "execution_count": 10,
     "metadata": {},
     "output_type": "execute_result"
    }
   ],
   "source": [
    "df_concat = pd.concat([X_train,y_train],axis=1)\n",
    "df_concat.head()"
   ]
  },
  {
   "cell_type": "code",
   "execution_count": 11,
   "metadata": {},
   "outputs": [],
   "source": [
    "#validation, training = cross_validation(df_test,cv=5)\n",
    "targets = ['Hinselmann','Schiller','Citology','Biopsy']\n",
    "clf_train = tree.DecisionTreeClassifier()\n",
    "results = cross_validation(df_concat,targets,clf_train,cv=10)"
   ]
  },
  {
   "cell_type": "code",
   "execution_count": 12,
   "metadata": {},
   "outputs": [
    {
     "name": "stdout",
     "output_type": "stream",
     "text": [
      "[0.75, 0.82, 0.87, 0.68, 0.73, 0.82, 0.78, 0.75, 0.7, 0.7]\n"
     ]
    }
   ],
   "source": [
    "print(results)"
   ]
  },
  {
   "cell_type": "code",
   "execution_count": 13,
   "metadata": {},
   "outputs": [
    {
     "data": {
      "text/plain": [
       "0.76"
      ]
     },
     "execution_count": 13,
     "metadata": {},
     "output_type": "execute_result"
    }
   ],
   "source": [
    "average_cv_accuracy(results)"
   ]
  },
  {
   "cell_type": "code",
   "execution_count": 15,
   "metadata": {},
   "outputs": [
    {
     "name": "stdout",
     "output_type": "stream",
     "text": [
      "[0.85, 0.82, 0.76, 0.81, 0.78]\n",
      "0.8\n"
     ]
    }
   ],
   "source": [
    "targets = ['Hinselmann','Schiller','Citology','Biopsy']\n",
    "clf_train = tree.DecisionTreeClassifier()\n",
    "results = cross_validation(df_concat,targets,clf_train,cv=5)\n",
    "print(results)\n",
    "print(average_cv_accuracy(results))"
   ]
  },
  {
   "cell_type": "code",
   "execution_count": 16,
   "metadata": {},
   "outputs": [
    {
     "name": "stdout",
     "output_type": "stream",
     "text": [
      "[0.87, 0.88, 0.88, 0.89, 0.9]\n",
      "0.88\n"
     ]
    }
   ],
   "source": [
    "targets = ['Hinselmann','Schiller','Citology','Biopsy']\n",
    "clf_train = tree.DecisionTreeClassifier(max_depth=4,max_features='log2',min_samples_split=4,min_impurity_decrease=0.5)\n",
    "results = cross_validation(df_concat,targets,clf_train,cv=5)\n",
    "print(results)\n",
    "print(average_cv_accuracy(results))"
   ]
  },
  {
   "cell_type": "code",
   "execution_count": 19,
   "metadata": {},
   "outputs": [],
   "source": [
    "y_train_labels =[]\n",
    "for idx in y_train.index:\n",
    "    row =[str(y_train.loc[idx][0]),str(y_train.loc[idx][1]),str(y_train.loc[idx][2]),str(y_train.loc[idx][3])]\n",
    "    y_train_labels.append(row)"
   ]
  },
  {
   "cell_type": "code",
   "execution_count": 27,
   "metadata": {},
   "outputs": [],
   "source": [
    "y_test_labels =[]\n",
    "for idx in y_test.index:\n",
    "    row =[str(float(y_test.loc[idx][0])),str(float(y_test.loc[idx][1])),\n",
    "          str(float(y_test.loc[idx][2])),str(float(y_test.loc[idx][3]))]\n",
    "    y_test_labels.append(row)"
   ]
  },
  {
   "cell_type": "code",
   "execution_count": 21,
   "metadata": {},
   "outputs": [],
   "source": [
    "clf_main = tree.DecisionTreeClassifier(max_depth=4,max_features='log2',min_samples_split=4,min_impurity_decrease=0.5)"
   ]
  },
  {
   "cell_type": "code",
   "execution_count": 22,
   "metadata": {},
   "outputs": [
    {
     "data": {
      "text/plain": [
       "DecisionTreeClassifier(class_weight=None, criterion='gini', max_depth=4,\n",
       "            max_features='log2', max_leaf_nodes=None,\n",
       "            min_impurity_decrease=0.5, min_impurity_split=None,\n",
       "            min_samples_leaf=1, min_samples_split=4,\n",
       "            min_weight_fraction_leaf=0.0, presort=False, random_state=None,\n",
       "            splitter='best')"
      ]
     },
     "execution_count": 22,
     "metadata": {},
     "output_type": "execute_result"
    }
   ],
   "source": [
    "clf_main.fit(X_train,y_train_labels)"
   ]
  },
  {
   "cell_type": "code",
   "execution_count": 23,
   "metadata": {},
   "outputs": [],
   "source": [
    "preds = clf_main.predict(X_test)"
   ]
  },
  {
   "cell_type": "code",
   "execution_count": 24,
   "metadata": {},
   "outputs": [],
   "source": [
    "new_preds = transform_preds(preds)"
   ]
  },
  {
   "cell_type": "code",
   "execution_count": 28,
   "metadata": {},
   "outputs": [
    {
     "data": {
      "text/plain": [
       "['0.0', '0.0', '0.0', '0.0']"
      ]
     },
     "execution_count": 28,
     "metadata": {},
     "output_type": "execute_result"
    }
   ],
   "source": [
    "y_test_labels[0]"
   ]
  },
  {
   "cell_type": "code",
   "execution_count": 29,
   "metadata": {},
   "outputs": [
    {
     "name": "stdout",
     "output_type": "stream",
     "text": [
      "0.88\n"
     ]
    }
   ],
   "source": [
    "print(multilabel_accuracy(y_test_labels,new_preds))"
   ]
  },
  {
   "cell_type": "code",
   "execution_count": null,
   "metadata": {},
   "outputs": [],
   "source": []
  }
 ],
 "metadata": {
  "kernelspec": {
   "display_name": "Python 3",
   "language": "python",
   "name": "python3"
  },
  "language_info": {
   "codemirror_mode": {
    "name": "ipython",
    "version": 3
   },
   "file_extension": ".py",
   "mimetype": "text/x-python",
   "name": "python",
   "nbconvert_exporter": "python",
   "pygments_lexer": "ipython3",
   "version": "3.6.7"
  }
 },
 "nbformat": 4,
 "nbformat_minor": 2
}
